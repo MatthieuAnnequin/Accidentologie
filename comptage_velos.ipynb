{
 "cells": [
  {
   "cell_type": "code",
   "execution_count": 1,
   "metadata": {},
   "outputs": [],
   "source": [
    "import pandas as pd\n",
    "import os\n",
    "from tqdm import tqdm"
   ]
  },
  {
   "cell_type": "code",
   "execution_count": 2,
   "metadata": {},
   "outputs": [],
   "source": [
    "df = pd.read_csv('data/comptage/comptage-velo-donnees-compteurs.csv', sep=';')\n",
    "df = df[['Identifiant du site de comptage', 'Date et heure de comptage', 'Comptage horaire']]\n",
    "\n",
    "liste_identifiants = []\n",
    "with open('data/comptage/identifiants_balises.txt', 'r') as file:\n",
    "    for line in file:\n",
    "        liste_identifiants.append(int(line[:-1]))\n",
    "\n",
    "df = df[df['Identifiant du site de comptage'].isin(liste_identifiants)].reset_index(drop=True)"
   ]
  },
  {
   "cell_type": "code",
   "execution_count": 3,
   "metadata": {},
   "outputs": [],
   "source": [
    "df.columns = ['id', 'date', 'comptage']"
   ]
  },
  {
   "cell_type": "code",
   "execution_count": 16,
   "metadata": {},
   "outputs": [
    {
     "name": "stderr",
     "output_type": "stream",
     "text": [
      "100%|██████████| 831907/831907 [00:13<00:00, 63710.13it/s]\n"
     ]
    },
    {
     "data": {
      "text/html": [
       "<div>\n",
       "<style scoped>\n",
       "    .dataframe tbody tr th:only-of-type {\n",
       "        vertical-align: middle;\n",
       "    }\n",
       "\n",
       "    .dataframe tbody tr th {\n",
       "        vertical-align: top;\n",
       "    }\n",
       "\n",
       "    .dataframe thead th {\n",
       "        text-align: right;\n",
       "    }\n",
       "</style>\n",
       "<table border=\"1\" class=\"dataframe\">\n",
       "  <thead>\n",
       "    <tr style=\"text-align: right;\">\n",
       "      <th></th>\n",
       "      <th>datetime</th>\n",
       "      <th>compte</th>\n",
       "      <th>year</th>\n",
       "      <th>date</th>\n",
       "      <th>time</th>\n",
       "    </tr>\n",
       "  </thead>\n",
       "  <tbody>\n",
       "    <tr>\n",
       "      <th>0</th>\n",
       "      <td>2021-12-31 23:00:00+00:00</td>\n",
       "      <td>1357.0</td>\n",
       "      <td>2022</td>\n",
       "      <td>2021-12-31</td>\n",
       "      <td>23:00:00</td>\n",
       "    </tr>\n",
       "    <tr>\n",
       "      <th>1</th>\n",
       "      <td>2022-01-01 06:00:00+00:00</td>\n",
       "      <td>482.0</td>\n",
       "      <td>2022</td>\n",
       "      <td>2022-01-01</td>\n",
       "      <td>06:00:00</td>\n",
       "    </tr>\n",
       "    <tr>\n",
       "      <th>2</th>\n",
       "      <td>2022-01-01 19:00:00+00:00</td>\n",
       "      <td>2608.0</td>\n",
       "      <td>2022</td>\n",
       "      <td>2022-01-01</td>\n",
       "      <td>19:00:00</td>\n",
       "    </tr>\n",
       "    <tr>\n",
       "      <th>3</th>\n",
       "      <td>2022-01-01 23:00:00+00:00</td>\n",
       "      <td>839.0</td>\n",
       "      <td>2022</td>\n",
       "      <td>2022-01-01</td>\n",
       "      <td>23:00:00</td>\n",
       "    </tr>\n",
       "    <tr>\n",
       "      <th>4</th>\n",
       "      <td>2022-01-02 00:00:00+00:00</td>\n",
       "      <td>409.0</td>\n",
       "      <td>2022</td>\n",
       "      <td>2022-01-02</td>\n",
       "      <td>00:00:00</td>\n",
       "    </tr>\n",
       "  </tbody>\n",
       "</table>\n",
       "</div>"
      ],
      "text/plain": [
       "                   datetime  compte  year        date      time\n",
       "0 2021-12-31 23:00:00+00:00  1357.0  2022  2021-12-31  23:00:00\n",
       "1 2022-01-01 06:00:00+00:00   482.0  2022  2022-01-01  06:00:00\n",
       "2 2022-01-01 19:00:00+00:00  2608.0  2022  2022-01-01  19:00:00\n",
       "3 2022-01-01 23:00:00+00:00   839.0  2022  2022-01-01  23:00:00\n",
       "4 2022-01-02 00:00:00+00:00   409.0  2022  2022-01-02  00:00:00"
      ]
     },
     "execution_count": 16,
     "metadata": {},
     "output_type": "execute_result"
    }
   ],
   "source": [
    "new_data = {}\n",
    "\n",
    "df = df[~df['comptage'].isna()]\n",
    "\n",
    "from tqdm import tqdm\n",
    "for ind in tqdm(df.index):\n",
    "\n",
    "    date = df['date'][ind]\n",
    "    new_data[date] = new_data.get(date, 0) + df['comptage'][ind]\n",
    "\n",
    "new_df = {\n",
    "    'datetime': list(new_data.keys()),\n",
    "    'compte': list(new_data.values())\n",
    "}\n",
    "\n",
    "new_df = pd.DataFrame(new_df)\n",
    "new_df['year'] = new_df['datetime'].apply(lambda x: x[:4])\n",
    "new_df = new_df[new_df['year'] == '2022'].reset_index(drop=True)\n",
    "\n",
    "new_df['datetime'] = pd.to_datetime(new_df['datetime'], utc=True)\n",
    "new_df['date'] = [str(d.date()) for d in new_df['datetime']]\n",
    "new_df['time'] = [str(d.time()) for d in new_df['datetime']]\n",
    "\n",
    "new_df.head()\n"
   ]
  },
  {
   "cell_type": "code",
   "execution_count": 17,
   "metadata": {},
   "outputs": [],
   "source": [
    "new_df = new_df.iloc[1:].sort_values(by=['date', 'time']).reset_index(drop=True)"
   ]
  },
  {
   "cell_type": "code",
   "execution_count": 19,
   "metadata": {},
   "outputs": [],
   "source": [
    "new_df = new_df[['date', 'time', 'compte']]"
   ]
  },
  {
   "cell_type": "code",
   "execution_count": 13,
   "metadata": {},
   "outputs": [],
   "source": [
    "df_meteo = pd.read_csv('data/meteo/meteo_2022.csv',sep=';')\n",
    "df_meteo = df_meteo[df_meteo['region (name)'] == 'Île-de-France']\n",
    "df_meteo = df_meteo[['Date', 'Température', 'Humidité']].reset_index(drop=True)\n",
    "df_meteo.columns = ['date', 'temperature', 'humidite']"
   ]
  },
  {
   "cell_type": "code",
   "execution_count": 14,
   "metadata": {},
   "outputs": [
    {
     "data": {
      "text/html": [
       "<div>\n",
       "<style scoped>\n",
       "    .dataframe tbody tr th:only-of-type {\n",
       "        vertical-align: middle;\n",
       "    }\n",
       "\n",
       "    .dataframe tbody tr th {\n",
       "        vertical-align: top;\n",
       "    }\n",
       "\n",
       "    .dataframe thead th {\n",
       "        text-align: right;\n",
       "    }\n",
       "</style>\n",
       "<table border=\"1\" class=\"dataframe\">\n",
       "  <thead>\n",
       "    <tr style=\"text-align: right;\">\n",
       "      <th></th>\n",
       "      <th>date</th>\n",
       "      <th>time</th>\n",
       "      <th>temperature</th>\n",
       "      <th>humidite</th>\n",
       "    </tr>\n",
       "  </thead>\n",
       "  <tbody>\n",
       "    <tr>\n",
       "      <th>0</th>\n",
       "      <td>2022-01-01</td>\n",
       "      <td>00:00:00</td>\n",
       "      <td>282.85</td>\n",
       "      <td>99.0</td>\n",
       "    </tr>\n",
       "    <tr>\n",
       "      <th>1</th>\n",
       "      <td>2022-01-01</td>\n",
       "      <td>03:00:00</td>\n",
       "      <td>282.05</td>\n",
       "      <td>100.0</td>\n",
       "    </tr>\n",
       "    <tr>\n",
       "      <th>2</th>\n",
       "      <td>2022-01-01</td>\n",
       "      <td>06:00:00</td>\n",
       "      <td>280.95</td>\n",
       "      <td>100.0</td>\n",
       "    </tr>\n",
       "    <tr>\n",
       "      <th>3</th>\n",
       "      <td>2022-01-01</td>\n",
       "      <td>09:00:00</td>\n",
       "      <td>280.65</td>\n",
       "      <td>100.0</td>\n",
       "    </tr>\n",
       "    <tr>\n",
       "      <th>4</th>\n",
       "      <td>2022-01-01</td>\n",
       "      <td>12:00:00</td>\n",
       "      <td>285.35</td>\n",
       "      <td>81.0</td>\n",
       "    </tr>\n",
       "  </tbody>\n",
       "</table>\n",
       "</div>"
      ],
      "text/plain": [
       "         date      time  temperature  humidite\n",
       "0  2022-01-01  00:00:00       282.85      99.0\n",
       "1  2022-01-01  03:00:00       282.05     100.0\n",
       "2  2022-01-01  06:00:00       280.95     100.0\n",
       "3  2022-01-01  09:00:00       280.65     100.0\n",
       "4  2022-01-01  12:00:00       285.35      81.0"
      ]
     },
     "execution_count": 14,
     "metadata": {},
     "output_type": "execute_result"
    }
   ],
   "source": [
    "import datetime as dt \n",
    "\n",
    "df_meteo['datetime'] = pd.to_datetime(df_meteo['date'], utc=True)\n",
    "df_meteo['date'] = [str(d.date()) for d in df_meteo['datetime']]\n",
    "df_meteo['time'] = [str(d.time()) for d in df_meteo['datetime']]\n",
    "\n",
    "df_meteo = df_meteo.sort_values(by=['date', 'time']).reset_index(drop=True)[['date', 'time', 'temperature', 'humidite']]\n",
    "\n",
    "df_meteo.head()"
   ]
  },
  {
   "cell_type": "code",
   "execution_count": 20,
   "metadata": {},
   "outputs": [
    {
     "data": {
      "text/html": [
       "<div>\n",
       "<style scoped>\n",
       "    .dataframe tbody tr th:only-of-type {\n",
       "        vertical-align: middle;\n",
       "    }\n",
       "\n",
       "    .dataframe tbody tr th {\n",
       "        vertical-align: top;\n",
       "    }\n",
       "\n",
       "    .dataframe thead th {\n",
       "        text-align: right;\n",
       "    }\n",
       "</style>\n",
       "<table border=\"1\" class=\"dataframe\">\n",
       "  <thead>\n",
       "    <tr style=\"text-align: right;\">\n",
       "      <th></th>\n",
       "      <th>date</th>\n",
       "      <th>time</th>\n",
       "      <th>compte</th>\n",
       "      <th>temperature</th>\n",
       "      <th>humidite</th>\n",
       "    </tr>\n",
       "  </thead>\n",
       "  <tbody>\n",
       "    <tr>\n",
       "      <th>0</th>\n",
       "      <td>2022-01-01</td>\n",
       "      <td>00:00:00</td>\n",
       "      <td>1626.0</td>\n",
       "      <td>282.85</td>\n",
       "      <td>99.0</td>\n",
       "    </tr>\n",
       "    <tr>\n",
       "      <th>1</th>\n",
       "      <td>2022-01-01</td>\n",
       "      <td>01:00:00</td>\n",
       "      <td>1962.0</td>\n",
       "      <td>NaN</td>\n",
       "      <td>NaN</td>\n",
       "    </tr>\n",
       "    <tr>\n",
       "      <th>2</th>\n",
       "      <td>2022-01-01</td>\n",
       "      <td>02:00:00</td>\n",
       "      <td>1628.0</td>\n",
       "      <td>NaN</td>\n",
       "      <td>NaN</td>\n",
       "    </tr>\n",
       "    <tr>\n",
       "      <th>3</th>\n",
       "      <td>2022-01-01</td>\n",
       "      <td>03:00:00</td>\n",
       "      <td>1289.0</td>\n",
       "      <td>282.05</td>\n",
       "      <td>100.0</td>\n",
       "    </tr>\n",
       "    <tr>\n",
       "      <th>4</th>\n",
       "      <td>2022-01-01</td>\n",
       "      <td>04:00:00</td>\n",
       "      <td>825.0</td>\n",
       "      <td>NaN</td>\n",
       "      <td>NaN</td>\n",
       "    </tr>\n",
       "  </tbody>\n",
       "</table>\n",
       "</div>"
      ],
      "text/plain": [
       "         date      time  compte  temperature  humidite\n",
       "0  2022-01-01  00:00:00  1626.0       282.85      99.0\n",
       "1  2022-01-01  01:00:00  1962.0          NaN       NaN\n",
       "2  2022-01-01  02:00:00  1628.0          NaN       NaN\n",
       "3  2022-01-01  03:00:00  1289.0       282.05     100.0\n",
       "4  2022-01-01  04:00:00   825.0          NaN       NaN"
      ]
     },
     "execution_count": 20,
     "metadata": {},
     "output_type": "execute_result"
    }
   ],
   "source": [
    "df_merged = pd.merge(left=new_df, right=df_meteo, how='left', left_on=['date', 'time'], right_on=['date', 'time'])\n",
    "\n",
    "df_merged.head()"
   ]
  },
  {
   "cell_type": "code",
   "execution_count": 21,
   "metadata": {},
   "outputs": [
    {
     "name": "stderr",
     "output_type": "stream",
     "text": [
      "  0%|          | 0/2918 [00:00<?, ?it/s]C:\\Users\\yanbri\\AppData\\Local\\Temp\\ipykernel_18652\\488691284.py:12: SettingWithCopyWarning: \n",
      "A value is trying to be set on a copy of a slice from a DataFrame\n",
      "\n",
      "See the caveats in the documentation: https://pandas.pydata.org/pandas-docs/stable/user_guide/indexing.html#returning-a-view-versus-a-copy\n",
      "  df_merged['temperature'][index_start+j] = temp_0 + (temp_1-temp_0)*(j/ecart)\n",
      "C:\\Users\\yanbri\\AppData\\Local\\Temp\\ipykernel_18652\\488691284.py:13: SettingWithCopyWarning: \n",
      "A value is trying to be set on a copy of a slice from a DataFrame\n",
      "\n",
      "See the caveats in the documentation: https://pandas.pydata.org/pandas-docs/stable/user_guide/indexing.html#returning-a-view-versus-a-copy\n",
      "  df_merged['humidite'][index_start+j] = humi_0 + (humi_1-humi_0)*(j/ecart)\n",
      "100%|██████████| 2918/2918 [02:05<00:00, 23.18it/s]\n"
     ]
    }
   ],
   "source": [
    "columns = ['temperature', 'humidite']\n",
    "\n",
    "df_index = df_merged[~df_merged['temperature'].isna()]\n",
    "list_index = list(df_index.index)\n",
    "\n",
    "for k in tqdm(range(len(list_index)-1)):\n",
    "    index_start, index_end = list_index[k], list_index[k+1]\n",
    "    ecart = index_end-index_start\n",
    "    temp_0, temp_1 = df_index['temperature'][index_start], df_index['temperature'][index_end]\n",
    "    humi_0, humi_1 = df_index['humidite'][index_start], df_index['humidite'][index_end]\n",
    "    for j in range(1, ecart):\n",
    "        df_merged['temperature'][index_start+j] = temp_0 + (temp_1-temp_0)*(j/ecart)\n",
    "        df_merged['humidite'][index_start+j] = humi_0 + (humi_1-humi_0)*(j/ecart)"
   ]
  },
  {
   "cell_type": "code",
   "execution_count": 23,
   "metadata": {},
   "outputs": [],
   "source": [
    "df_merged.to_csv('2022_processed.csv', sep=';', index=None)"
   ]
  },
  {
   "cell_type": "code",
   "execution_count": 24,
   "metadata": {},
   "outputs": [],
   "source": [
    "def annee_bissextile(year: int) -> bool:\n",
    "\n",
    "    return ((year % 4 == 0 and year % 100 != 0) or (year % 400 == 0))\n",
    "\n",
    "\n",
    "days_per_month = {\n",
    "    1: 31, 2: 28, 3: 31, 4: 30, 5: 31, 6: 30,\n",
    "    7: 31, 8: 31, 9: 30, 10: 31, 11: 30, 12: 31\n",
    "}\n",
    "\n",
    "def convert_date(date: str) -> float:\n",
    "\n",
    "    is_bissextile = annee_bissextile(int(date[:4]))\n",
    "    month = int(date[5:7])\n",
    "    day = int(date[8::])\n",
    "\n",
    "    nb_days = day if month <= 2 else day + is_bissextile\n",
    "    total = 365 + is_bissextile\n",
    "\n",
    "    for k in range(1, month):\n",
    "        nb_days += days_per_month[k]\n",
    "    \n",
    "    return nb_days/total\n",
    "\n",
    "def convert_hour(time: str) -> float:\n",
    "\n",
    "    hour = int(time[:2])\n",
    "    minutes = int(time[3:4])/15\n",
    "\n",
    "    return (4*hour + minutes)/96"
   ]
  },
  {
   "cell_type": "code",
   "execution_count": 25,
   "metadata": {},
   "outputs": [
    {
     "data": {
      "text/html": [
       "<div>\n",
       "<style scoped>\n",
       "    .dataframe tbody tr th:only-of-type {\n",
       "        vertical-align: middle;\n",
       "    }\n",
       "\n",
       "    .dataframe tbody tr th {\n",
       "        vertical-align: top;\n",
       "    }\n",
       "\n",
       "    .dataframe thead th {\n",
       "        text-align: right;\n",
       "    }\n",
       "</style>\n",
       "<table border=\"1\" class=\"dataframe\">\n",
       "  <thead>\n",
       "    <tr style=\"text-align: right;\">\n",
       "      <th></th>\n",
       "      <th>date</th>\n",
       "      <th>time</th>\n",
       "      <th>compte</th>\n",
       "      <th>temperature</th>\n",
       "      <th>humidite</th>\n",
       "      <th>cos_date</th>\n",
       "      <th>sin_date</th>\n",
       "      <th>cos_time</th>\n",
       "      <th>sin_time</th>\n",
       "    </tr>\n",
       "  </thead>\n",
       "  <tbody>\n",
       "    <tr>\n",
       "      <th>0</th>\n",
       "      <td>2022-01-01</td>\n",
       "      <td>00:00:00</td>\n",
       "      <td>1626.0</td>\n",
       "      <td>282.850000</td>\n",
       "      <td>99.000000</td>\n",
       "      <td>0.999852</td>\n",
       "      <td>0.017213</td>\n",
       "      <td>1.000000</td>\n",
       "      <td>0.000000</td>\n",
       "    </tr>\n",
       "    <tr>\n",
       "      <th>1</th>\n",
       "      <td>2022-01-01</td>\n",
       "      <td>01:00:00</td>\n",
       "      <td>1962.0</td>\n",
       "      <td>282.583333</td>\n",
       "      <td>99.333333</td>\n",
       "      <td>0.999852</td>\n",
       "      <td>0.017213</td>\n",
       "      <td>0.965926</td>\n",
       "      <td>0.258819</td>\n",
       "    </tr>\n",
       "    <tr>\n",
       "      <th>2</th>\n",
       "      <td>2022-01-01</td>\n",
       "      <td>02:00:00</td>\n",
       "      <td>1628.0</td>\n",
       "      <td>282.316667</td>\n",
       "      <td>99.666667</td>\n",
       "      <td>0.999852</td>\n",
       "      <td>0.017213</td>\n",
       "      <td>0.866025</td>\n",
       "      <td>0.500000</td>\n",
       "    </tr>\n",
       "    <tr>\n",
       "      <th>3</th>\n",
       "      <td>2022-01-01</td>\n",
       "      <td>03:00:00</td>\n",
       "      <td>1289.0</td>\n",
       "      <td>282.050000</td>\n",
       "      <td>100.000000</td>\n",
       "      <td>0.999852</td>\n",
       "      <td>0.017213</td>\n",
       "      <td>0.707107</td>\n",
       "      <td>0.707107</td>\n",
       "    </tr>\n",
       "    <tr>\n",
       "      <th>4</th>\n",
       "      <td>2022-01-01</td>\n",
       "      <td>04:00:00</td>\n",
       "      <td>825.0</td>\n",
       "      <td>281.683333</td>\n",
       "      <td>100.000000</td>\n",
       "      <td>0.999852</td>\n",
       "      <td>0.017213</td>\n",
       "      <td>0.500000</td>\n",
       "      <td>0.866025</td>\n",
       "    </tr>\n",
       "  </tbody>\n",
       "</table>\n",
       "</div>"
      ],
      "text/plain": [
       "         date      time  compte  temperature    humidite  cos_date  sin_date  \\\n",
       "0  2022-01-01  00:00:00  1626.0   282.850000   99.000000  0.999852  0.017213   \n",
       "1  2022-01-01  01:00:00  1962.0   282.583333   99.333333  0.999852  0.017213   \n",
       "2  2022-01-01  02:00:00  1628.0   282.316667   99.666667  0.999852  0.017213   \n",
       "3  2022-01-01  03:00:00  1289.0   282.050000  100.000000  0.999852  0.017213   \n",
       "4  2022-01-01  04:00:00   825.0   281.683333  100.000000  0.999852  0.017213   \n",
       "\n",
       "   cos_time  sin_time  \n",
       "0  1.000000  0.000000  \n",
       "1  0.965926  0.258819  \n",
       "2  0.866025  0.500000  \n",
       "3  0.707107  0.707107  \n",
       "4  0.500000  0.866025  "
      ]
     },
     "execution_count": 25,
     "metadata": {},
     "output_type": "execute_result"
    }
   ],
   "source": [
    "from math import pi, cos, sin\n",
    "\n",
    "df_merged['angle_time'] = df_merged['time'].apply(lambda x: 2*pi*convert_hour(x))\n",
    "df_merged['angle_date'] = df_merged['date'].apply(lambda x: 2*pi*convert_date(x))\n",
    "\n",
    "df_merged['cos_date'] = df_merged['angle_date'].apply(cos)\n",
    "df_merged['sin_date'] = df_merged['angle_date'].apply(sin)\n",
    "\n",
    "df_merged['cos_time'] = df_merged['angle_time'].apply(cos)\n",
    "df_merged['sin_time'] = df_merged['angle_time'].apply(sin)\n",
    "\n",
    "df_merged = df_merged.drop(columns=['angle_time', 'angle_date'])\n",
    "\n",
    "df_merged.head()"
   ]
  },
  {
   "cell_type": "code",
   "execution_count": 13,
   "metadata": {},
   "outputs": [],
   "source": [
    "df_merged.to_csv('data.csv', sep=';', index=None)"
   ]
  },
  {
   "cell_type": "code",
   "execution_count": 26,
   "metadata": {},
   "outputs": [],
   "source": [
    "import datetime as dt\n",
    "\n",
    "def is_week_end(date_str: str) -> int:\n",
    "\n",
    "    weekday = dt.date.fromisoformat(date_str).isoweekday()\n",
    "    return int(weekday == 6 or weekday == 7)\n",
    "\n",
    "df_merged['week_end'] = df_merged['date'].apply(lambda x: is_week_end(x))"
   ]
  },
  {
   "cell_type": "code",
   "execution_count": 27,
   "metadata": {},
   "outputs": [],
   "source": [
    "df_vacation = pd.read_csv('data/data_vacances.csv', sep=',')[['date', 'vacances_zone_c']]\n",
    "\n",
    "liste_days = list(df_vacation[df_vacation['vacances_zone_c'] == True].date.unique())\n",
    "\n",
    "df_merged['vacation'] = df_merged['date'].apply(lambda x: int(x in liste_days))"
   ]
  },
  {
   "cell_type": "code",
   "execution_count": 28,
   "metadata": {},
   "outputs": [],
   "source": [
    "df_feries = pd.read_csv('data/jours_feries_metropole.csv', sep=',')\n",
    "liste_feries = df_feries['date'].unique()\n",
    "\n",
    "df_merged['ferie'] = df_merged['date'].apply(lambda x: int(x in liste_feries))"
   ]
  },
  {
   "cell_type": "code",
   "execution_count": 29,
   "metadata": {},
   "outputs": [
    {
     "data": {
      "text/html": [
       "<div>\n",
       "<style scoped>\n",
       "    .dataframe tbody tr th:only-of-type {\n",
       "        vertical-align: middle;\n",
       "    }\n",
       "\n",
       "    .dataframe tbody tr th {\n",
       "        vertical-align: top;\n",
       "    }\n",
       "\n",
       "    .dataframe thead th {\n",
       "        text-align: right;\n",
       "    }\n",
       "</style>\n",
       "<table border=\"1\" class=\"dataframe\">\n",
       "  <thead>\n",
       "    <tr style=\"text-align: right;\">\n",
       "      <th></th>\n",
       "      <th>date</th>\n",
       "      <th>time</th>\n",
       "      <th>compte</th>\n",
       "      <th>temperature</th>\n",
       "      <th>humidite</th>\n",
       "      <th>cos_date</th>\n",
       "      <th>sin_date</th>\n",
       "      <th>cos_time</th>\n",
       "      <th>sin_time</th>\n",
       "      <th>week_end</th>\n",
       "      <th>vacation</th>\n",
       "      <th>ferie</th>\n",
       "    </tr>\n",
       "  </thead>\n",
       "  <tbody>\n",
       "    <tr>\n",
       "      <th>0</th>\n",
       "      <td>2022-01-01</td>\n",
       "      <td>00:00:00</td>\n",
       "      <td>1626.0</td>\n",
       "      <td>282.850000</td>\n",
       "      <td>99.000000</td>\n",
       "      <td>0.999852</td>\n",
       "      <td>0.017213</td>\n",
       "      <td>1.000000</td>\n",
       "      <td>0.000000</td>\n",
       "      <td>1</td>\n",
       "      <td>1</td>\n",
       "      <td>1</td>\n",
       "    </tr>\n",
       "    <tr>\n",
       "      <th>1</th>\n",
       "      <td>2022-01-01</td>\n",
       "      <td>01:00:00</td>\n",
       "      <td>1962.0</td>\n",
       "      <td>282.583333</td>\n",
       "      <td>99.333333</td>\n",
       "      <td>0.999852</td>\n",
       "      <td>0.017213</td>\n",
       "      <td>0.965926</td>\n",
       "      <td>0.258819</td>\n",
       "      <td>1</td>\n",
       "      <td>1</td>\n",
       "      <td>1</td>\n",
       "    </tr>\n",
       "    <tr>\n",
       "      <th>2</th>\n",
       "      <td>2022-01-01</td>\n",
       "      <td>02:00:00</td>\n",
       "      <td>1628.0</td>\n",
       "      <td>282.316667</td>\n",
       "      <td>99.666667</td>\n",
       "      <td>0.999852</td>\n",
       "      <td>0.017213</td>\n",
       "      <td>0.866025</td>\n",
       "      <td>0.500000</td>\n",
       "      <td>1</td>\n",
       "      <td>1</td>\n",
       "      <td>1</td>\n",
       "    </tr>\n",
       "    <tr>\n",
       "      <th>3</th>\n",
       "      <td>2022-01-01</td>\n",
       "      <td>03:00:00</td>\n",
       "      <td>1289.0</td>\n",
       "      <td>282.050000</td>\n",
       "      <td>100.000000</td>\n",
       "      <td>0.999852</td>\n",
       "      <td>0.017213</td>\n",
       "      <td>0.707107</td>\n",
       "      <td>0.707107</td>\n",
       "      <td>1</td>\n",
       "      <td>1</td>\n",
       "      <td>1</td>\n",
       "    </tr>\n",
       "    <tr>\n",
       "      <th>4</th>\n",
       "      <td>2022-01-01</td>\n",
       "      <td>04:00:00</td>\n",
       "      <td>825.0</td>\n",
       "      <td>281.683333</td>\n",
       "      <td>100.000000</td>\n",
       "      <td>0.999852</td>\n",
       "      <td>0.017213</td>\n",
       "      <td>0.500000</td>\n",
       "      <td>0.866025</td>\n",
       "      <td>1</td>\n",
       "      <td>1</td>\n",
       "      <td>1</td>\n",
       "    </tr>\n",
       "  </tbody>\n",
       "</table>\n",
       "</div>"
      ],
      "text/plain": [
       "         date      time  compte  temperature    humidite  cos_date  sin_date  \\\n",
       "0  2022-01-01  00:00:00  1626.0   282.850000   99.000000  0.999852  0.017213   \n",
       "1  2022-01-01  01:00:00  1962.0   282.583333   99.333333  0.999852  0.017213   \n",
       "2  2022-01-01  02:00:00  1628.0   282.316667   99.666667  0.999852  0.017213   \n",
       "3  2022-01-01  03:00:00  1289.0   282.050000  100.000000  0.999852  0.017213   \n",
       "4  2022-01-01  04:00:00   825.0   281.683333  100.000000  0.999852  0.017213   \n",
       "\n",
       "   cos_time  sin_time  week_end  vacation  ferie  \n",
       "0  1.000000  0.000000         1         1      1  \n",
       "1  0.965926  0.258819         1         1      1  \n",
       "2  0.866025  0.500000         1         1      1  \n",
       "3  0.707107  0.707107         1         1      1  \n",
       "4  0.500000  0.866025         1         1      1  "
      ]
     },
     "execution_count": 29,
     "metadata": {},
     "output_type": "execute_result"
    }
   ],
   "source": [
    "df_merged.head()"
   ]
  },
  {
   "cell_type": "code",
   "execution_count": 40,
   "metadata": {},
   "outputs": [],
   "source": [
    "df_merged.to_csv('2022_processed.csv', sep=';', index=None)"
   ]
  },
  {
   "cell_type": "code",
   "execution_count": 1,
   "metadata": {},
   "outputs": [],
   "source": [
    "from sklearn.model_selection import train_test_split\n",
    "from sklearn.metrics import mean_absolute_error, mean_squared_error\n",
    "from sklearn.ensemble import RandomForestRegressor\n",
    "import pandas as pd"
   ]
  },
  {
   "cell_type": "code",
   "execution_count": 2,
   "metadata": {},
   "outputs": [],
   "source": [
    "def eval(y_predict, y_test):\n",
    "    mae = mean_absolute_error(y_predict, y_test)\n",
    "    mse = mean_squared_error(y_predict, y_test)\n",
    "\n",
    "    print(f\"MAE: {mae:.2f}\")\n",
    "    print(f\"RMSE: {mse ** 0.5:.2f}\")"
   ]
  },
  {
   "cell_type": "code",
   "execution_count": 3,
   "metadata": {},
   "outputs": [],
   "source": [
    "df = pd.read_csv('data_processed.csv', sep=';')\n",
    "\n",
    "data = df.dropna()\n",
    "data = data.set_index([\"date\", \"time\"])"
   ]
  },
  {
   "cell_type": "code",
   "execution_count": 4,
   "metadata": {},
   "outputs": [],
   "source": [
    "data[\"mean_24h\"] = data[\"compte\"].shift(4).rolling(24*4).mean()\n",
    "data[\"max_24h\"] = data[\"compte\"].shift(4).rolling(24*4).max()\n",
    "data[\"min_24h\"] = data[\"compte\"].shift(4).rolling(24*4).min()\n",
    "data[\"mean_30d\"] = data[\"compte\"].shift(4).rolling(30*24*4).mean()\n",
    "data[\"max_30d\"] = data[\"compte\"].shift(4).rolling(30*24*4).max()\n",
    "data[\"min_30d\"] = data[\"compte\"].shift(4).rolling(30*24*4).min()\n",
    "\n",
    "data = pd.concat([data.loc[:'2020-03-17'], data.loc['2020-06-11':]])\n",
    "data_train = data.loc[:'2021-09-30'].dropna()\n",
    "data_test = data.loc['2021-10-01':].dropna()"
   ]
  },
  {
   "cell_type": "code",
   "execution_count": 5,
   "metadata": {},
   "outputs": [],
   "source": [
    "y_train = data_train[['compte']]\n",
    "y_test = data_test[['compte']]\n",
    "\n",
    "X_train = data_train[data_train.columns.difference(pd.Index([\"compte\"]))]\n",
    "X_test = data_test[data_test.columns.difference(pd.Index([\"compte\"]))]"
   ]
  },
  {
   "cell_type": "code",
   "execution_count": 5,
   "metadata": {},
   "outputs": [],
   "source": [
    "SEED = 42\n",
    "\n",
    "y = data[['compte']]\n",
    "X = data[data.columns.difference(pd.Index([\"compte\"]))]\n",
    "\n",
    "X_train, X_test, y_train, y_test = train_test_split(X, y, test_size = 0.2, random_state = SEED)"
   ]
  },
  {
   "cell_type": "code",
   "execution_count": 6,
   "metadata": {},
   "outputs": [
    {
     "name": "stderr",
     "output_type": "stream",
     "text": [
      "C:\\Users\\yanbri\\AppData\\Local\\Temp\\ipykernel_16720\\4042571414.py:2: DataConversionWarning: A column-vector y was passed when a 1d array was expected. Please change the shape of y to (n_samples,), for example using ravel().\n",
      "  regressor.fit(X_train, y_train)\n"
     ]
    },
    {
     "name": "stdout",
     "output_type": "stream",
     "text": [
      "MAE: 523.66\n",
      "RMSE: 861.21\n"
     ]
    }
   ],
   "source": [
    "regressor = RandomForestRegressor()\n",
    "regressor.fit(X_train, y_train)\n",
    "\n",
    "y_predict = regressor.predict(X_test)\n",
    "\n",
    "eval(y_predict, y_test)"
   ]
  },
  {
   "cell_type": "code",
   "execution_count": 7,
   "metadata": {},
   "outputs": [
    {
     "data": {
      "text/plain": [
       "(94055, 15)"
      ]
     },
     "execution_count": 7,
     "metadata": {},
     "output_type": "execute_result"
    }
   ],
   "source": [
    "X.shape"
   ]
  }
 ],
 "metadata": {
  "kernelspec": {
   "display_name": "default_env",
   "language": "python",
   "name": "python3"
  },
  "language_info": {
   "codemirror_mode": {
    "name": "ipython",
    "version": 3
   },
   "file_extension": ".py",
   "mimetype": "text/x-python",
   "name": "python",
   "nbconvert_exporter": "python",
   "pygments_lexer": "ipython3",
   "version": "3.9.15 (main, Nov 24 2022, 14:39:17) [MSC v.1916 64 bit (AMD64)]"
  },
  "orig_nbformat": 4,
  "vscode": {
   "interpreter": {
    "hash": "f1b82fdcd5a4eb56fd7f61dbb971d5bed204b7b09e66bd06467bfa3c2b3f1e1b"
   }
  }
 },
 "nbformat": 4,
 "nbformat_minor": 2
}
